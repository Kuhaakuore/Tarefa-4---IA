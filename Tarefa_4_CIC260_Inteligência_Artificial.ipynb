{
  "nbformat": 4,
  "nbformat_minor": 0,
  "metadata": {
    "colab": {
      "name": "Tarefa 4 - CIC260 - Inteligência Artificial.ipynb",
      "provenance": [],
      "collapsed_sections": []
    },
    "kernelspec": {
      "name": "python3",
      "display_name": "Python 3"
    },
    "language_info": {
      "name": "python"
    }
  },
  "cells": [
    {
      "cell_type": "markdown",
      "metadata": {
        "id": "TTkIQCYUkmEH"
      },
      "source": [
        "Tarefa 4 - 08/11/2021\n",
        "\n",
        "Data de entrega: 15/11/2021 \n",
        "\n",
        "Disciplina: CIC260 – Inteligência Artificial\n",
        "\n",
        "Professora: Isabela Neves Drummond\n",
        "\n",
        "Aluno: Wesley da Silva Ribeiro\t\n",
        "\n",
        "Matrícula: 2019006307\n"
      ]
    },
    {
      "cell_type": "markdown",
      "metadata": {
        "id": "0H_sVHX_ky2H"
      },
      "source": [
        "Utilizando o livro Memórias Póstumas de Brás Cubas:\n",
        "\n"
      ]
    },
    {
      "cell_type": "markdown",
      "metadata": {
        "id": "wpfUoquTmPhf"
      },
      "source": [
        "# 1) Conte o número de caracteres do texto."
      ]
    },
    {
      "cell_type": "code",
      "metadata": {
        "id": "dWtvbYS4Jruy",
        "colab": {
          "base_uri": "https://localhost:8080/"
        },
        "outputId": "ca260120-ebc2-49f5-b496-c14f636b40da"
      },
      "source": [
        "import nltk #importando a biblioteca\n",
        "nltk.download('all') # baixando todos os recursos da biblioteca (pode demorar)\n",
        "from nltk import word_tokenize #importando o módulo word_tokenize"
      ],
      "execution_count": 8,
      "outputs": [
        {
          "output_type": "stream",
          "name": "stdout",
          "text": [
            "[nltk_data] Downloading collection 'all'\n",
            "[nltk_data]    | \n",
            "[nltk_data]    | Downloading package abc to /root/nltk_data...\n",
            "[nltk_data]    |   Unzipping corpora/abc.zip.\n",
            "[nltk_data]    | Downloading package alpino to /root/nltk_data...\n",
            "[nltk_data]    |   Unzipping corpora/alpino.zip.\n",
            "[nltk_data]    | Downloading package biocreative_ppi to\n",
            "[nltk_data]    |     /root/nltk_data...\n",
            "[nltk_data]    |   Unzipping corpora/biocreative_ppi.zip.\n",
            "[nltk_data]    | Downloading package brown to /root/nltk_data...\n",
            "[nltk_data]    |   Unzipping corpora/brown.zip.\n",
            "[nltk_data]    | Downloading package brown_tei to /root/nltk_data...\n",
            "[nltk_data]    |   Unzipping corpora/brown_tei.zip.\n",
            "[nltk_data]    | Downloading package cess_cat to /root/nltk_data...\n",
            "[nltk_data]    |   Unzipping corpora/cess_cat.zip.\n",
            "[nltk_data]    | Downloading package cess_esp to /root/nltk_data...\n",
            "[nltk_data]    |   Unzipping corpora/cess_esp.zip.\n",
            "[nltk_data]    | Downloading package chat80 to /root/nltk_data...\n",
            "[nltk_data]    |   Unzipping corpora/chat80.zip.\n",
            "[nltk_data]    | Downloading package city_database to\n",
            "[nltk_data]    |     /root/nltk_data...\n",
            "[nltk_data]    |   Unzipping corpora/city_database.zip.\n",
            "[nltk_data]    | Downloading package cmudict to /root/nltk_data...\n",
            "[nltk_data]    |   Unzipping corpora/cmudict.zip.\n",
            "[nltk_data]    | Downloading package comparative_sentences to\n",
            "[nltk_data]    |     /root/nltk_data...\n",
            "[nltk_data]    |   Unzipping corpora/comparative_sentences.zip.\n",
            "[nltk_data]    | Downloading package comtrans to /root/nltk_data...\n",
            "[nltk_data]    | Downloading package conll2000 to /root/nltk_data...\n",
            "[nltk_data]    |   Unzipping corpora/conll2000.zip.\n",
            "[nltk_data]    | Downloading package conll2002 to /root/nltk_data...\n",
            "[nltk_data]    |   Unzipping corpora/conll2002.zip.\n",
            "[nltk_data]    | Downloading package conll2007 to /root/nltk_data...\n",
            "[nltk_data]    | Downloading package crubadan to /root/nltk_data...\n",
            "[nltk_data]    |   Unzipping corpora/crubadan.zip.\n",
            "[nltk_data]    | Downloading package dependency_treebank to\n",
            "[nltk_data]    |     /root/nltk_data...\n",
            "[nltk_data]    |   Unzipping corpora/dependency_treebank.zip.\n",
            "[nltk_data]    | Downloading package dolch to /root/nltk_data...\n",
            "[nltk_data]    |   Unzipping corpora/dolch.zip.\n",
            "[nltk_data]    | Downloading package europarl_raw to\n",
            "[nltk_data]    |     /root/nltk_data...\n",
            "[nltk_data]    |   Unzipping corpora/europarl_raw.zip.\n",
            "[nltk_data]    | Downloading package floresta to /root/nltk_data...\n",
            "[nltk_data]    |   Unzipping corpora/floresta.zip.\n",
            "[nltk_data]    | Downloading package framenet_v15 to\n",
            "[nltk_data]    |     /root/nltk_data...\n",
            "[nltk_data]    |   Unzipping corpora/framenet_v15.zip.\n",
            "[nltk_data]    | Downloading package framenet_v17 to\n",
            "[nltk_data]    |     /root/nltk_data...\n",
            "[nltk_data]    |   Unzipping corpora/framenet_v17.zip.\n",
            "[nltk_data]    | Downloading package gazetteers to /root/nltk_data...\n",
            "[nltk_data]    |   Unzipping corpora/gazetteers.zip.\n",
            "[nltk_data]    | Downloading package genesis to /root/nltk_data...\n",
            "[nltk_data]    |   Unzipping corpora/genesis.zip.\n",
            "[nltk_data]    | Downloading package gutenberg to /root/nltk_data...\n",
            "[nltk_data]    |   Unzipping corpora/gutenberg.zip.\n",
            "[nltk_data]    | Downloading package ieer to /root/nltk_data...\n",
            "[nltk_data]    |   Unzipping corpora/ieer.zip.\n",
            "[nltk_data]    | Downloading package inaugural to /root/nltk_data...\n",
            "[nltk_data]    |   Unzipping corpora/inaugural.zip.\n",
            "[nltk_data]    | Downloading package indian to /root/nltk_data...\n",
            "[nltk_data]    |   Unzipping corpora/indian.zip.\n",
            "[nltk_data]    | Downloading package jeita to /root/nltk_data...\n",
            "[nltk_data]    | Downloading package kimmo to /root/nltk_data...\n",
            "[nltk_data]    |   Unzipping corpora/kimmo.zip.\n",
            "[nltk_data]    | Downloading package knbc to /root/nltk_data...\n",
            "[nltk_data]    | Downloading package lin_thesaurus to\n",
            "[nltk_data]    |     /root/nltk_data...\n",
            "[nltk_data]    |   Unzipping corpora/lin_thesaurus.zip.\n",
            "[nltk_data]    | Downloading package mac_morpho to /root/nltk_data...\n",
            "[nltk_data]    |   Unzipping corpora/mac_morpho.zip.\n",
            "[nltk_data]    | Downloading package machado to /root/nltk_data...\n",
            "[nltk_data]    | Downloading package masc_tagged to /root/nltk_data...\n",
            "[nltk_data]    | Downloading package moses_sample to\n",
            "[nltk_data]    |     /root/nltk_data...\n",
            "[nltk_data]    |   Unzipping models/moses_sample.zip.\n",
            "[nltk_data]    | Downloading package movie_reviews to\n",
            "[nltk_data]    |     /root/nltk_data...\n",
            "[nltk_data]    |   Unzipping corpora/movie_reviews.zip.\n",
            "[nltk_data]    | Downloading package names to /root/nltk_data...\n",
            "[nltk_data]    |   Unzipping corpora/names.zip.\n",
            "[nltk_data]    | Downloading package nombank.1.0 to /root/nltk_data...\n",
            "[nltk_data]    | Downloading package nps_chat to /root/nltk_data...\n",
            "[nltk_data]    |   Unzipping corpora/nps_chat.zip.\n",
            "[nltk_data]    | Downloading package omw to /root/nltk_data...\n",
            "[nltk_data]    |   Unzipping corpora/omw.zip.\n",
            "[nltk_data]    | Downloading package opinion_lexicon to\n",
            "[nltk_data]    |     /root/nltk_data...\n",
            "[nltk_data]    |   Unzipping corpora/opinion_lexicon.zip.\n",
            "[nltk_data]    | Downloading package paradigms to /root/nltk_data...\n",
            "[nltk_data]    |   Unzipping corpora/paradigms.zip.\n",
            "[nltk_data]    | Downloading package pil to /root/nltk_data...\n",
            "[nltk_data]    |   Unzipping corpora/pil.zip.\n",
            "[nltk_data]    | Downloading package pl196x to /root/nltk_data...\n",
            "[nltk_data]    |   Unzipping corpora/pl196x.zip.\n",
            "[nltk_data]    | Downloading package ppattach to /root/nltk_data...\n",
            "[nltk_data]    |   Unzipping corpora/ppattach.zip.\n",
            "[nltk_data]    | Downloading package problem_reports to\n",
            "[nltk_data]    |     /root/nltk_data...\n",
            "[nltk_data]    |   Unzipping corpora/problem_reports.zip.\n",
            "[nltk_data]    | Downloading package propbank to /root/nltk_data...\n",
            "[nltk_data]    | Downloading package ptb to /root/nltk_data...\n",
            "[nltk_data]    |   Unzipping corpora/ptb.zip.\n",
            "[nltk_data]    | Downloading package product_reviews_1 to\n",
            "[nltk_data]    |     /root/nltk_data...\n",
            "[nltk_data]    |   Unzipping corpora/product_reviews_1.zip.\n",
            "[nltk_data]    | Downloading package product_reviews_2 to\n",
            "[nltk_data]    |     /root/nltk_data...\n",
            "[nltk_data]    |   Unzipping corpora/product_reviews_2.zip.\n",
            "[nltk_data]    | Downloading package pros_cons to /root/nltk_data...\n",
            "[nltk_data]    |   Unzipping corpora/pros_cons.zip.\n",
            "[nltk_data]    | Downloading package qc to /root/nltk_data...\n",
            "[nltk_data]    |   Unzipping corpora/qc.zip.\n",
            "[nltk_data]    | Downloading package reuters to /root/nltk_data...\n",
            "[nltk_data]    | Downloading package rte to /root/nltk_data...\n",
            "[nltk_data]    |   Unzipping corpora/rte.zip.\n",
            "[nltk_data]    | Downloading package semcor to /root/nltk_data...\n",
            "[nltk_data]    | Downloading package senseval to /root/nltk_data...\n",
            "[nltk_data]    |   Unzipping corpora/senseval.zip.\n",
            "[nltk_data]    | Downloading package sentiwordnet to\n",
            "[nltk_data]    |     /root/nltk_data...\n",
            "[nltk_data]    |   Unzipping corpora/sentiwordnet.zip.\n",
            "[nltk_data]    | Downloading package sentence_polarity to\n",
            "[nltk_data]    |     /root/nltk_data...\n",
            "[nltk_data]    |   Unzipping corpora/sentence_polarity.zip.\n",
            "[nltk_data]    | Downloading package shakespeare to /root/nltk_data...\n",
            "[nltk_data]    |   Unzipping corpora/shakespeare.zip.\n",
            "[nltk_data]    | Downloading package sinica_treebank to\n",
            "[nltk_data]    |     /root/nltk_data...\n",
            "[nltk_data]    |   Unzipping corpora/sinica_treebank.zip.\n",
            "[nltk_data]    | Downloading package smultron to /root/nltk_data...\n",
            "[nltk_data]    |   Unzipping corpora/smultron.zip.\n",
            "[nltk_data]    | Downloading package state_union to /root/nltk_data...\n",
            "[nltk_data]    |   Unzipping corpora/state_union.zip.\n",
            "[nltk_data]    | Downloading package stopwords to /root/nltk_data...\n",
            "[nltk_data]    |   Unzipping corpora/stopwords.zip.\n",
            "[nltk_data]    | Downloading package subjectivity to\n",
            "[nltk_data]    |     /root/nltk_data...\n",
            "[nltk_data]    |   Unzipping corpora/subjectivity.zip.\n",
            "[nltk_data]    | Downloading package swadesh to /root/nltk_data...\n",
            "[nltk_data]    |   Unzipping corpora/swadesh.zip.\n",
            "[nltk_data]    | Downloading package switchboard to /root/nltk_data...\n",
            "[nltk_data]    |   Unzipping corpora/switchboard.zip.\n",
            "[nltk_data]    | Downloading package timit to /root/nltk_data...\n",
            "[nltk_data]    |   Unzipping corpora/timit.zip.\n",
            "[nltk_data]    | Downloading package toolbox to /root/nltk_data...\n",
            "[nltk_data]    |   Unzipping corpora/toolbox.zip.\n",
            "[nltk_data]    | Downloading package treebank to /root/nltk_data...\n",
            "[nltk_data]    |   Unzipping corpora/treebank.zip.\n",
            "[nltk_data]    | Downloading package twitter_samples to\n",
            "[nltk_data]    |     /root/nltk_data...\n",
            "[nltk_data]    |   Unzipping corpora/twitter_samples.zip.\n",
            "[nltk_data]    | Downloading package udhr to /root/nltk_data...\n",
            "[nltk_data]    |   Unzipping corpora/udhr.zip.\n",
            "[nltk_data]    | Downloading package udhr2 to /root/nltk_data...\n",
            "[nltk_data]    |   Unzipping corpora/udhr2.zip.\n",
            "[nltk_data]    | Downloading package unicode_samples to\n",
            "[nltk_data]    |     /root/nltk_data...\n",
            "[nltk_data]    |   Unzipping corpora/unicode_samples.zip.\n",
            "[nltk_data]    | Downloading package universal_treebanks_v20 to\n",
            "[nltk_data]    |     /root/nltk_data...\n",
            "[nltk_data]    | Downloading package verbnet to /root/nltk_data...\n",
            "[nltk_data]    |   Unzipping corpora/verbnet.zip.\n",
            "[nltk_data]    | Downloading package verbnet3 to /root/nltk_data...\n",
            "[nltk_data]    |   Unzipping corpora/verbnet3.zip.\n",
            "[nltk_data]    | Downloading package webtext to /root/nltk_data...\n",
            "[nltk_data]    |   Unzipping corpora/webtext.zip.\n",
            "[nltk_data]    | Downloading package wordnet to /root/nltk_data...\n",
            "[nltk_data]    |   Unzipping corpora/wordnet.zip.\n",
            "[nltk_data]    | Downloading package wordnet31 to /root/nltk_data...\n",
            "[nltk_data]    |   Unzipping corpora/wordnet31.zip.\n",
            "[nltk_data]    | Downloading package wordnet_ic to /root/nltk_data...\n",
            "[nltk_data]    |   Unzipping corpora/wordnet_ic.zip.\n",
            "[nltk_data]    | Downloading package words to /root/nltk_data...\n",
            "[nltk_data]    |   Unzipping corpora/words.zip.\n",
            "[nltk_data]    | Downloading package ycoe to /root/nltk_data...\n",
            "[nltk_data]    |   Unzipping corpora/ycoe.zip.\n",
            "[nltk_data]    | Downloading package rslp to /root/nltk_data...\n",
            "[nltk_data]    |   Unzipping stemmers/rslp.zip.\n",
            "[nltk_data]    | Downloading package maxent_treebank_pos_tagger to\n",
            "[nltk_data]    |     /root/nltk_data...\n",
            "[nltk_data]    |   Unzipping taggers/maxent_treebank_pos_tagger.zip.\n",
            "[nltk_data]    | Downloading package universal_tagset to\n",
            "[nltk_data]    |     /root/nltk_data...\n",
            "[nltk_data]    |   Unzipping taggers/universal_tagset.zip.\n",
            "[nltk_data]    | Downloading package maxent_ne_chunker to\n",
            "[nltk_data]    |     /root/nltk_data...\n",
            "[nltk_data]    |   Unzipping chunkers/maxent_ne_chunker.zip.\n",
            "[nltk_data]    | Downloading package punkt to /root/nltk_data...\n",
            "[nltk_data]    |   Unzipping tokenizers/punkt.zip.\n",
            "[nltk_data]    | Downloading package book_grammars to\n",
            "[nltk_data]    |     /root/nltk_data...\n",
            "[nltk_data]    |   Unzipping grammars/book_grammars.zip.\n",
            "[nltk_data]    | Downloading package sample_grammars to\n",
            "[nltk_data]    |     /root/nltk_data...\n",
            "[nltk_data]    |   Unzipping grammars/sample_grammars.zip.\n",
            "[nltk_data]    | Downloading package spanish_grammars to\n",
            "[nltk_data]    |     /root/nltk_data...\n",
            "[nltk_data]    |   Unzipping grammars/spanish_grammars.zip.\n",
            "[nltk_data]    | Downloading package basque_grammars to\n",
            "[nltk_data]    |     /root/nltk_data...\n",
            "[nltk_data]    |   Unzipping grammars/basque_grammars.zip.\n",
            "[nltk_data]    | Downloading package large_grammars to\n",
            "[nltk_data]    |     /root/nltk_data...\n",
            "[nltk_data]    |   Unzipping grammars/large_grammars.zip.\n",
            "[nltk_data]    | Downloading package tagsets to /root/nltk_data...\n",
            "[nltk_data]    |   Unzipping help/tagsets.zip.\n",
            "[nltk_data]    | Downloading package snowball_data to\n",
            "[nltk_data]    |     /root/nltk_data...\n",
            "[nltk_data]    | Downloading package bllip_wsj_no_aux to\n",
            "[nltk_data]    |     /root/nltk_data...\n",
            "[nltk_data]    |   Unzipping models/bllip_wsj_no_aux.zip.\n",
            "[nltk_data]    | Downloading package word2vec_sample to\n",
            "[nltk_data]    |     /root/nltk_data...\n",
            "[nltk_data]    |   Unzipping models/word2vec_sample.zip.\n",
            "[nltk_data]    | Downloading package panlex_swadesh to\n",
            "[nltk_data]    |     /root/nltk_data...\n",
            "[nltk_data]    | Downloading package mte_teip5 to /root/nltk_data...\n",
            "[nltk_data]    |   Unzipping corpora/mte_teip5.zip.\n",
            "[nltk_data]    | Downloading package averaged_perceptron_tagger to\n",
            "[nltk_data]    |     /root/nltk_data...\n",
            "[nltk_data]    |   Unzipping taggers/averaged_perceptron_tagger.zip.\n",
            "[nltk_data]    | Downloading package averaged_perceptron_tagger_ru to\n",
            "[nltk_data]    |     /root/nltk_data...\n",
            "[nltk_data]    |   Unzipping\n",
            "[nltk_data]    |       taggers/averaged_perceptron_tagger_ru.zip.\n",
            "[nltk_data]    | Downloading package perluniprops to\n",
            "[nltk_data]    |     /root/nltk_data...\n",
            "[nltk_data]    |   Unzipping misc/perluniprops.zip.\n",
            "[nltk_data]    | Downloading package nonbreaking_prefixes to\n",
            "[nltk_data]    |     /root/nltk_data...\n",
            "[nltk_data]    |   Unzipping corpora/nonbreaking_prefixes.zip.\n",
            "[nltk_data]    | Downloading package vader_lexicon to\n",
            "[nltk_data]    |     /root/nltk_data...\n",
            "[nltk_data]    | Downloading package porter_test to /root/nltk_data...\n",
            "[nltk_data]    |   Unzipping stemmers/porter_test.zip.\n",
            "[nltk_data]    | Downloading package wmt15_eval to /root/nltk_data...\n",
            "[nltk_data]    |   Unzipping models/wmt15_eval.zip.\n",
            "[nltk_data]    | Downloading package mwa_ppdb to /root/nltk_data...\n",
            "[nltk_data]    |   Unzipping misc/mwa_ppdb.zip.\n",
            "[nltk_data]    | \n",
            "[nltk_data]  Done downloading collection all\n"
          ]
        }
      ]
    },
    {
      "cell_type": "markdown",
      "metadata": {
        "id": "YXiTEQOG0cGz"
      },
      "source": [
        "#### O que é e para que serve um *corpus*?\n",
        "\n",
        "*Corpus* pode ser definido como o conjunto de materiais linguísticos que serão analisados. Para os propósitos do PLN, é necessário que esses materiais estejam na forma de texto e que possam ser lidos por um programa de computador.\n",
        "\n",
        "Vamos criar um método de leitura de um arquivo txt que contém nosso corpus:"
      ]
    },
    {
      "cell_type": "code",
      "metadata": {
        "id": "kDze0baJkl0A"
      },
      "source": [
        "def ler(nome_arquivo):\n",
        "    arquivo = open(nome_arquivo, 'r', encoding='utf-8')\n",
        "    conteudo_arq = arquivo.read()\n",
        "    arquivo.close()\n",
        "    return conteudo_arq"
      ],
      "execution_count": 2,
      "outputs": []
    },
    {
      "cell_type": "markdown",
      "metadata": {
        "id": "XBmkK3S64rDs"
      },
      "source": [
        "Agora vamos carregar o livro \"Mémorias Póstumas de Brás Cubas.txt\" e iremos exibir o número de caracteres da obra."
      ]
    },
    {
      "cell_type": "code",
      "metadata": {
        "id": "gSxdJVUd32R_",
        "colab": {
          "base_uri": "https://localhost:8080/"
        },
        "outputId": "5665de8e-8604-44af-9014-9b5aecc5eb09"
      },
      "source": [
        "Bras_Cubas = ler('Memórias Póstumas de Brás Cubas.txt')\n",
        "print(\"Número de caracteres:\", len(Bras_Cubas))"
      ],
      "execution_count": 25,
      "outputs": [
        {
          "output_type": "stream",
          "name": "stdout",
          "text": [
            "Número de caracteres: 355706\n"
          ]
        }
      ]
    },
    {
      "cell_type": "markdown",
      "metadata": {
        "id": "ajE03pmgF8oA"
      },
      "source": [
        "# 2) Limpe o conjunto."
      ]
    },
    {
      "cell_type": "markdown",
      "metadata": {
        "id": "YpIpXS9wGFo3"
      },
      "source": [
        "Vamos realizar a remoção da pontuação e a conversão de todo o texto para caracteres minúsculos. Vamos definir uma função para que isso possa ser feito sempre que necessário, sem repetição de códigos:"
      ]
    },
    {
      "cell_type": "code",
      "metadata": {
        "id": "hfLrC7mwF1KQ"
      },
      "source": [
        "def limpar(lista):\n",
        "  lixo = '.,:.;?!\"`()[]{}\\/|#$%^&*'\n",
        "  quase_limpo = [x.strip(lixo).lower() for x in lista]\n",
        "  return [x for x in quase_limpo if x.isalpha() or '-' in x]"
      ],
      "execution_count": 5,
      "outputs": []
    },
    {
      "cell_type": "markdown",
      "metadata": {
        "id": "Za0TzKTgIvX5"
      },
      "source": [
        "Agora podemos comparar o copus da obra Memórias Póstumas de Brás Cubas antes e depois da limpeza:"
      ]
    },
    {
      "cell_type": "code",
      "metadata": {
        "colab": {
          "base_uri": "https://localhost:8080/"
        },
        "id": "rIaAuS-6IrGI",
        "outputId": "f2ab4dd9-183b-4b4b-c980-b35cbfa40393"
      },
      "source": [
        "print(\"Número de caracteres do conjunto antes da limpeza:\", len(Bras_Cubas))\n",
        "Bras_Cubas = limpar(Bras_Cubas)\n",
        "print(\"Número de caracteres do conjunto depois da limpeza:\", len(Bras_Cubas))"
      ],
      "execution_count": 6,
      "outputs": [
        {
          "output_type": "stream",
          "name": "stdout",
          "text": [
            "Número de caracteres do conjunto antes da limpeza: 355706\n",
            "Número de caracteres do conjunto depois da limpeza: 277208\n"
          ]
        }
      ]
    },
    {
      "cell_type": "markdown",
      "metadata": {
        "id": "utjtgtodL0i0"
      },
      "source": [
        "Outra forma de realizar a limpeza de um *corpus* é através da remoção de **palavras vazias**. Palavras vazias são palavras que podem ser descartadas antes de uma análise pois possuem reduzida contribuição semântica ou nocional. Geralmente são preposições, artigos, conjunções, alguns pronomes e advérbios.\n",
        "\n",
        "A NLTK traz uma lista de 203 palavras vazias para o português. Podemos importa-las usando:"
      ]
    },
    {
      "cell_type": "code",
      "metadata": {
        "id": "swZW3tOyI8T5"
      },
      "source": [
        "vazias = nltk.corpus.stopwords.words('portuguese')"
      ],
      "execution_count": 10,
      "outputs": []
    },
    {
      "cell_type": "markdown",
      "metadata": {
        "id": "PXoJX8rbOCHa"
      },
      "source": [
        "Vamos criar uma função que remova as palavras vazias e aplicá-la a obra Memórias Póstumas e verificar a mudança no tamanho do *corpus*."
      ]
    },
    {
      "cell_type": "code",
      "metadata": {
        "id": "sctkW9U5N6ym"
      },
      "source": [
        "def remove_vazias(lista):\n",
        "  return [palavra for palavra in lista if palavra not in vazias]"
      ],
      "execution_count": 9,
      "outputs": []
    },
    {
      "cell_type": "code",
      "metadata": {
        "colab": {
          "base_uri": "https://localhost:8080/"
        },
        "id": "BnbMEEekOtBC",
        "outputId": "46f479a4-8803-4b3f-a854-19fbaae715b1"
      },
      "source": [
        "print(\"Número de caracteres do conjunto antes da limpeza de palavras vazias:\", len(Bras_Cubas))\n",
        "Bras_Cubas = remove_vazias(Bras_Cubas)\n",
        "print(\"Número de caracteres do conjunto depois da limpeza de palavras vazias:\", len(Bras_Cubas))"
      ],
      "execution_count": 26,
      "outputs": [
        {
          "output_type": "stream",
          "name": "stdout",
          "text": [
            "Número de caracteres do conjunto antes da limpeza de palavras vazias: 355706\n",
            "Número de caracteres do conjunto depois da limpeza de palavras vazias: 259013\n"
          ]
        }
      ]
    },
    {
      "cell_type": "markdown",
      "metadata": {
        "id": "sb-rPHV4PDvs"
      },
      "source": [
        "# 3) Conte as palavras do texto"
      ]
    },
    {
      "cell_type": "markdown",
      "metadata": {
        "id": "UVC8n2JyPggH"
      },
      "source": [
        "O vocabulário é basicamente uma lista de todas as palavras que aparecem no *corpus*. É como um dicionário, e sendo assim, não apresenta repetição de palavras. Podemos obter o vocabulário facilmente:"
      ]
    },
    {
      "cell_type": "code",
      "metadata": {
        "colab": {
          "base_uri": "https://localhost:8080/"
        },
        "id": "TnBu1BaQO3bR",
        "outputId": "c1d7a2a4-0674-40db-aefe-5a070538ab6a"
      },
      "source": [
        "Bras_Cubas = ler('Memórias Póstumas de Brás Cubas.txt')\n",
        "palavras = word_tokenize(Bras_Cubas)\n",
        "palavras = limpar(palavras)\n",
        "vocabulario_sem_limpeza = set(palavras)\n",
        "print(\"Vocabulário sem a remoção de palavras vazias: \", len(vocabulario_sem_limpeza))\n",
        "palavras_sem_vazias = remove_vazias(palavras)\n",
        "vocabulario = set(palavras_sem_vazias)\n",
        "print(\"Vocabulário com a remoção de palavras vazias: \", len(vocabulario))"
      ],
      "execution_count": 27,
      "outputs": [
        {
          "output_type": "stream",
          "name": "stdout",
          "text": [
            "Vocabulário sem a remoção de palavras vazias:  10429\n",
            "Vocabulário com a remoção de palavras vazias:  10262\n"
          ]
        }
      ]
    },
    {
      "cell_type": "markdown",
      "metadata": {
        "id": "78IlMC6UT6xd"
      },
      "source": [
        "# 4) Calcule a riqueza lexical do texto."
      ]
    },
    {
      "cell_type": "markdown",
      "metadata": {
        "id": "FV7vGLnGT_oN"
      },
      "source": [
        "A riqueza lexical trata-se do número de palavras distintas dividido pelo número total de palavras. O intuito dessa conta é que, quanto mais palavras diferentes aparecem no *corpus*, maior a diversidade (ou riqueza) do vocabulário.\n",
        "\n",
        "Sendo assim, podemos fazer a análise da riqueza lexical de forma muito simples:"
      ]
    },
    {
      "cell_type": "code",
      "metadata": {
        "colab": {
          "base_uri": "https://localhost:8080/"
        },
        "id": "nH6opdtsSBL7",
        "outputId": "ffe32a2a-5ea3-4a14-b97f-f579c7de8446"
      },
      "source": [
        "riqueza = len(vocabulario) / len(palavras)\n",
        "print(riqueza)"
      ],
      "execution_count": 28,
      "outputs": [
        {
          "output_type": "stream",
          "name": "stdout",
          "text": [
            "0.17028973482459925\n"
          ]
        }
      ]
    },
    {
      "cell_type": "markdown",
      "metadata": {
        "id": "2GDlDSbHP4NF"
      },
      "source": [
        "# 5) Divida as palavras do texto em função de seu número de ocorrências e verifique se as vinte palavras mais frequentes do romance Memórias Póstumas são semelhantes às palavras mais frequentes de Dom Casmurro.\n"
      ]
    },
    {
      "cell_type": "markdown",
      "metadata": {
        "id": "rCCWLnvLQWpM"
      },
      "source": [
        "Primeiro precisamos criar um dicionário no Python que associa a palavra a sua contagem de ocorrências."
      ]
    },
    {
      "cell_type": "code",
      "metadata": {
        "id": "f6aIZcqcP2za"
      },
      "source": [
        "from collections import defaultdict\n",
        "def ocorrencias(lista_palavras):\n",
        "    dicionario = defaultdict(int)\n",
        "    for p in lista_palavras:\n",
        "        dicionario[p] += 1\n",
        "    \n",
        "    return dicionario"
      ],
      "execution_count": 29,
      "outputs": []
    },
    {
      "cell_type": "markdown",
      "metadata": {
        "id": "_-zLbSfhSvhO"
      },
      "source": [
        "Utilizando a função acima, podemos obter uma estrutura do Python que contém uma chave e um valor, no nosso caso uma palavra e sua contagem de ocorrências.\n",
        "\n",
        "Podemos utilizar uma função do Python chamada `sorted()` que, com algumas alterações, pode ordenar as palavras em função da sua ocorrência. No exemplo a seguir, veremos as 10 palavras mais frequentes considerando a obra Dom Casmurro sem a remoção das palavras vazias:"
      ]
    },
    {
      "cell_type": "code",
      "metadata": {
        "colab": {
          "base_uri": "https://localhost:8080/"
        },
        "id": "7BGZIKOLRgkT",
        "outputId": "673b4892-767b-4e7c-c189-6267d2307942"
      },
      "source": [
        "dic_Bras_Cubas = ocorrencias(palavras)\n",
        "mais_frequentes = sorted(dic_Bras_Cubas.items(), key=lambda tupla:tupla[1], reverse=True)[:20]\n",
        "for palavra, n in mais_frequentes:\n",
        "    print(palavra, '\\t', n)\n",
        "print()\n",
        "\n",
        "Dom_Casmurro = ler('Dom Casmurro.txt')\n",
        "palavras_Dom = word_tokenize(Dom_Casmurro)\n",
        "palavras_Dom = limpar(palavras_Dom)\n",
        "dic_Dom_Casmurro = ocorrencias(palavras_Dom)\n",
        "mais_frequentes_Dom = sorted(dic_Dom_Casmurro.items(), key=lambda tupla:tupla[1], reverse=True)[:20]\n",
        "for palavra, n in mais_frequentes_Dom:\n",
        "    print(palavra, '\\t', n)"
      ],
      "execution_count": 36,
      "outputs": [
        {
          "output_type": "stream",
          "name": "stdout",
          "text": [
            "a \t 2490\n",
            "que \t 2203\n",
            "de \t 2117\n",
            "e \t 1949\n",
            "o \t 1711\n",
            "não \t 1164\n",
            "um \t 989\n",
            "do \t 688\n",
            "uma \t 665\n",
            "da \t 650\n",
            "com \t 581\n",
            "era \t 511\n",
            "é \t 508\n",
            "os \t 486\n",
            "eu \t 476\n",
            "se \t 456\n",
            "as \t 420\n",
            "mas \t 414\n",
            "ao \t 383\n",
            "me \t 373\n",
            "\n",
            "que \t 2684\n",
            "a \t 2483\n",
            "e \t 2185\n",
            "de \t 1975\n",
            "o \t 1667\n",
            "não \t 1524\n",
            "um \t 771\n",
            "é \t 715\n",
            "os \t 660\n",
            "da \t 626\n",
            "mas \t 608\n",
            "do \t 595\n",
            "se \t 568\n",
            "era \t 556\n",
            "para \t 542\n",
            "as \t 537\n",
            "com \t 536\n",
            "eu \t 532\n",
            "me \t 489\n",
            "em \t 456\n"
          ]
        }
      ]
    },
    {
      "cell_type": "markdown",
      "metadata": {
        "id": "2fJ_KIz4Sva8"
      },
      "source": [
        "Agora, o mesmo trecho pode ser utilizado para verificarmos as 20 mais frequentes com a limpeza de palavras vazias:"
      ]
    },
    {
      "cell_type": "code",
      "metadata": {
        "colab": {
          "base_uri": "https://localhost:8080/"
        },
        "id": "apzffFztR9EO",
        "outputId": "9f284c56-6bb8-49e6-839c-34029ac8da56"
      },
      "source": [
        "dic_Bras_Cubas = ocorrencias(palavras_sem_vazias)\n",
        "mais_frequentes = sorted(dic_Bras_Cubas.items(), key=lambda tupla:tupla[1], reverse=True)[:20]\n",
        "semelhantes = []\n",
        "palavras_sem_vazias_Dom = remove_vazias(palavras_Dom)\n",
        "dic_Dom_Casmurro = ocorrencias(palavras_sem_vazias_Dom)\n",
        "mais_frequentes_Dom = sorted(dic_Dom_Casmurro.items(), key=lambda tupla:tupla[1], reverse=True)[:20]\n",
        "for palavra_Dom, n in mais_frequentes_Dom:\n",
        "    for palavra, m in mais_frequentes:\n",
        "        if palavra_Dom == palavra:\n",
        "          semelhantes.append(palavra)\n",
        "\n",
        "\n",
        "print(\"20 palavras mais frequentes pertencentes à obra Memórias Póstumas de Brás Cubas:\")\n",
        "for palavra, n in mais_frequentes:\n",
        "    print(palavra, '\\t', n)\n",
        "\n",
        "print()\n",
        "\n",
        "print(\"20 palavras mais frequentes pertencentes à obra Dom Casmurro:\")\n",
        "for palavra, n in mais_frequentes_Dom:\n",
        "    print(palavra, '\\t', n)\n",
        "\n",
        "print()\n",
        "\n",
        "print(\"Palavras mais frequentes semelhantes em ambas as obras:\")\n",
        "for palavra in semelhantes:\n",
        "    print(palavra, '\\t')\n"
      ],
      "execution_count": 50,
      "outputs": [
        {
          "output_type": "stream",
          "name": "stdout",
          "text": [
            "20 palavras mais frequentes pertencentes à obra Memórias Póstumas de Brás Cubas:\n",
            "capítulo \t 209\n",
            "virgília \t 202\n",
            "coisa \t 148\n",
            "olhos \t 138\n",
            "disse \t 130\n",
            "nada \t 126\n",
            "outro \t 124\n",
            "vida \t 118\n",
            "outra \t 116\n",
            "tempo \t 114\n",
            "porque \t 113\n",
            "menos \t 112\n",
            "homem \t 108\n",
            "casa \t 107\n",
            "mim \t 100\n",
            "tudo \t 99\n",
            "pouco \t 98\n",
            "ser \t 97\n",
            "então \t 96\n",
            "tão \t 95\n",
            "\n",
            "20 palavras mais frequentes pertencentes à obra Dom Casmurro:\n",
            "capitu \t 341\n",
            "mãe \t 228\n",
            "dias \t 192\n",
            "tudo \t 189\n",
            "capítulo \t 188\n",
            "casa \t 169\n",
            "ser \t 167\n",
            "olhos \t 163\n",
            "mim \t 162\n",
            "josé \t 159\n",
            "assim \t 158\n",
            "vez \t 147\n",
            "agora \t 145\n",
            "ainda \t 141\n",
            "outra \t 138\n",
            "nada \t 135\n",
            "disse \t 123\n",
            "tão \t 122\n",
            "tempo \t 120\n",
            "padre \t 112\n",
            "\n",
            "Palavras mais frequentes semelhantes em ambas as obras:\n",
            "tudo \t\n",
            "capítulo \t\n",
            "casa \t\n",
            "ser \t\n",
            "olhos \t\n",
            "mim \t\n",
            "outra \t\n",
            "nada \t\n",
            "disse \t\n",
            "tão \t\n",
            "tempo \t\n"
          ]
        }
      ]
    }
  ]
}